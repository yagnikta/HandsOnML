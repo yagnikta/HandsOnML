{
  "nbformat": 4,
  "nbformat_minor": 0,
  "metadata": {
    "colab": {
      "provenance": [],
      "include_colab_link": true
    },
    "kernelspec": {
      "name": "python3",
      "display_name": "Python 3"
    },
    "language_info": {
      "name": "python"
    }
  },
  "cells": [
    {
      "cell_type": "markdown",
      "metadata": {
        "id": "view-in-github",
        "colab_type": "text"
      },
      "source": [
        "<a href=\"https://colab.research.google.com/github/yagnikta/HandsOnML/blob/main/random_forest_demo.ipynb\" target=\"_parent\"><img src=\"https://colab.research.google.com/assets/colab-badge.svg\" alt=\"Open In Colab\"/></a>"
      ]
    },
    {
      "cell_type": "code",
      "metadata": {
        "id": "22IU6qO9cJgV"
      },
      "source": [
        "import numpy as np\n",
        "from sklearn.model_selection import train_test_split\n",
        "from sklearn.datasets import make_circles\n",
        "import matplotlib.pyplot as plt\n"
      ],
      "execution_count": null,
      "outputs": []
    },
    {
      "cell_type": "code",
      "metadata": {
        "id": "et8qgBq-cKqJ"
      },
      "source": [
        "np.random.seed(42)\n",
        "X, y = make_circles(n_samples=500, factor=0.1, noise=0.35, random_state=42)\n",
        "X_train, X_test, y_train, y_test = train_test_split(X, y, test_size=0.2)"
      ],
      "execution_count": null,
      "outputs": []
    },
    {
      "cell_type": "code",
      "metadata": {
        "id": "3oTfuw5O3ekv"
      },
      "source": [
        "X.shape"
      ],
      "execution_count": null,
      "outputs": []
    },
    {
      "cell_type": "code",
      "metadata": {
        "id": "ytofoADT3Xl9"
      },
      "source": [
        "plt.scatter(X[:,0],X[:,1],c=y)"
      ],
      "execution_count": null,
      "outputs": []
    },
    {
      "cell_type": "code",
      "metadata": {
        "id": "fp2K-ChAcMGY"
      },
      "source": [
        "from sklearn.tree import DecisionTreeClassifier"
      ],
      "execution_count": null,
      "outputs": []
    },
    {
      "cell_type": "code",
      "metadata": {
        "id": "lRx9rAFZcNy8"
      },
      "source": [
        "dtree = DecisionTreeClassifier(random_state=42)\n",
        "dtree.fit(X_train, y_train)\n",
        "\n",
        "plt.figure(figsize=(12, 8))\n",
        "x_range = np.linspace(X.min(), X.max(), 100)\n",
        "xx1, xx2 = np.meshgrid(x_range, x_range)\n",
        "y_hat = dtree.predict(np.c_[xx1.ravel(), xx2.ravel()])\n",
        "y_hat = y_hat.reshape(xx1.shape)\n",
        "plt.contourf(xx1, xx2, y_hat, alpha=0.2)\n",
        "plt.scatter(X[:,0], X[:,1], c=y, cmap='viridis', alpha=.7)\n",
        "plt.title(\"Decision tree\")\n",
        "plt.show()"
      ],
      "execution_count": null,
      "outputs": []
    },
    {
      "cell_type": "code",
      "metadata": {
        "id": "J9xU34TkcPXk"
      },
      "source": [
        "from sklearn.ensemble import RandomForestClassifier"
      ],
      "execution_count": null,
      "outputs": []
    },
    {
      "cell_type": "code",
      "metadata": {
        "id": "IC-E3hGFcSgD"
      },
      "source": [
        "rf = RandomForestClassifier(n_estimators=500, random_state=42)\n",
        "rf.fit(X_train, y_train)\n",
        "\n",
        "plt.figure(figsize=(12, 8))\n",
        "x_range = np.linspace(X.min(), X.max(), 100)\n",
        "xx1, xx2 = np.meshgrid(x_range, x_range)\n",
        "y_hat = rf.predict(np.c_[xx1.ravel(), xx2.ravel()])\n",
        "y_hat = y_hat.reshape(xx1.shape)\n",
        "plt.contourf(xx1, xx2, y_hat, alpha=0.2)\n",
        "plt.scatter(X[:,0], X[:,1], c=y, cmap='viridis', alpha=.7)\n",
        "plt.title(\"Random forest\")\n",
        "plt.show()"
      ],
      "execution_count": null,
      "outputs": []
    },
    {
      "cell_type": "code",
      "metadata": {
        "id": "vKEEVSSwcURf"
      },
      "source": [
        "n_train = 150\n",
        "n_test = 1000\n",
        "noise = 0.1\n",
        "\n",
        "# Generate data\n",
        "def f(x):\n",
        "    x = x.ravel()\n",
        "    return np.exp(-x ** 2) + 1.5 * np.exp(-(x - 2) ** 2)\n",
        "\n",
        "def generate(n_samples, noise):\n",
        "    X = np.random.rand(n_samples) * 10 - 5\n",
        "    X = np.sort(X).ravel()\n",
        "    y = np.exp(-X ** 2) + 1.5 * np.exp(-(X - 2) ** 2)\\\n",
        "        + np.random.normal(0.0, noise, n_samples)\n",
        "    X = X.reshape((n_samples, 1))\n",
        "\n",
        "    return X, y\n",
        "\n",
        "X_train, y_train = generate(n_samples=n_train, noise=noise)\n",
        "X_test, y_test = generate(n_samples=n_test, noise=noise)"
      ],
      "execution_count": null,
      "outputs": []
    },
    {
      "cell_type": "code",
      "metadata": {
        "id": "AESWOdI1YrM_"
      },
      "source": [
        "plt.figure(figsize=(18, 8))\n",
        "plt.plot(X_test, f(X_test), \"r\")\n",
        "plt.scatter(X_train, y_train, c=\"b\", s=20)\n",
        "plt.xlim([-5, 5])"
      ],
      "execution_count": null,
      "outputs": []
    },
    {
      "cell_type": "code",
      "metadata": {
        "id": "oQLIqZlhcXI7"
      },
      "source": [
        "# One decision tree regressor\n",
        "from sklearn.tree import DecisionTreeRegressor\n",
        "\n",
        "dtree = DecisionTreeRegressor().fit(X_train, y_train)\n",
        "d_predict = dtree.predict(X_test)\n",
        "\n",
        "plt.figure(figsize=(18, 8))\n",
        "plt.plot(X_test, f(X_test), \"r\")\n",
        "plt.scatter(X_train, y_train, c=\"b\", s=20)\n",
        "plt.plot(X_test, d_predict, \"g\", lw=2)\n",
        "plt.xlim([-5, 5])\n",
        "plt.title(\"Decision tree, MSE = %.2f\"\n",
        "          % np.sum((y_test - d_predict) ** 2))"
      ],
      "execution_count": null,
      "outputs": []
    },
    {
      "cell_type": "code",
      "metadata": {
        "id": "0WZQKoaAcZNd"
      },
      "source": [
        "# Random Forest\n",
        "from sklearn.ensemble import RandomForestRegressor\n",
        "\n",
        "rfr = RandomForestRegressor(n_estimators=1000).fit(X_train, y_train)\n",
        "rf_predict = rfr.predict(X_test)\n",
        "\n",
        "plt.figure(figsize=(18, 8))\n",
        "plt.plot(X_test, f(X_test), \"r\")\n",
        "plt.scatter(X_train, y_train, c=\"b\", s=20)\n",
        "plt.plot(X_test, rf_predict, \"g\", lw=2)\n",
        "plt.xlim([-5, 5])\n",
        "plt.title(\"Random forest, MSE = %.2f\" % np.sum((y_test - rf_predict) ** 2));\n"
      ],
      "execution_count": null,
      "outputs": []
    },
    {
      "cell_type": "code",
      "metadata": {
        "id": "P7A2-KZAccS4"
      },
      "source": [],
      "execution_count": null,
      "outputs": []
    }
  ]
}