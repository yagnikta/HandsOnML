{
  "nbformat": 4,
  "nbformat_minor": 0,
  "metadata": {
    "colab": {
      "provenance": [],
      "authorship_tag": "ABX9TyPm8OtkkDUkOYuwTV9qBcW7",
      "include_colab_link": true
    },
    "kernelspec": {
      "name": "python3",
      "display_name": "Python 3"
    },
    "language_info": {
      "name": "python"
    }
  },
  "cells": [
    {
      "cell_type": "markdown",
      "metadata": {
        "id": "view-in-github",
        "colab_type": "text"
      },
      "source": [
        "<a href=\"https://colab.research.google.com/github/yagnikta/HandsOnML/blob/main/LogisticRegression.ipynb\" target=\"_parent\"><img src=\"https://colab.research.google.com/assets/colab-badge.svg\" alt=\"Open In Colab\"/></a>"
      ]
    },
    {
      "cell_type": "code",
      "execution_count": null,
      "metadata": {
        "id": "NpEOGfM-Uixf"
      },
      "outputs": [],
      "source": [
        "import numpy as np #imported numpy\n",
        "from sklearn.datasets import load_breast_cancer #imported dataset\n",
        "from sklearn.model_selection import train_test_split #imported train test split class\n",
        "from sklearn.preprocessing import StandardScaler #imported standarscalar class for standardization of data\n",
        "from sklearn.pipeline import make_pipeline #imported make_pipeline class for making a pipeline of process\n",
        "from sklearn.linear_model import LogisticRegression #imported base model for prediction\n",
        "from sklearn.metrics import accuracy_score, precision_score, recall_score, f1_score, confusion_matrix #imported various matrics classes for measuring the performance of the trained model.\n",
        "import matplotlib.pyplot as plt #imported matplotlib for ploting the results\n",
        "import seaborn as sns #imported advanced library for plotting"
      ]
    },
    {
      "cell_type": "code",
      "source": [
        "# 1. Load the dataset\n",
        "# This is a real-world dataset for breast cancer classification.\n",
        "# The features are various medical measurements, and the target is whether\n",
        "# the tumor is malignant (1) or benign (0).\n",
        "breast_cancer_data = load_breast_cancer() #loaded the data by calling the function\n",
        "X = breast_cancer_data.data # features of the data\n",
        "y = breast_cancer_data.target # target of the data"
      ],
      "metadata": {
        "id": "9iBAaYGXUoos"
      },
      "execution_count": null,
      "outputs": []
    },
    {
      "cell_type": "code",
      "source": [
        "# 2. Split the data into training and testing sets\n",
        "# We use a 70/30 split. The model will be trained on the training data\n",
        "# and evaluated on the unseen testing data.\n",
        "X_train, X_test, y_train, y_test = train_test_split(X, y, test_size=0.1, random_state=42) #split the data 70:30 ratio for training:testing"
      ],
      "metadata": {
        "id": "zzjGQkzYUwWt"
      },
      "execution_count": null,
      "outputs": []
    },
    {
      "cell_type": "code",
      "source": [
        "# 3. Create a data processing and model pipeline\n",
        "# It's a best practice to scale the data before applying a linear model.\n",
        "# StandardScaler ensures all features have a mean of 0 and a standard deviation of 1.\n",
        "# The pipeline ensures that this scaling is consistently applied to both training\n",
        "# and testing data.\n",
        "pipeline = make_pipeline(StandardScaler(), LogisticRegression()) # Made pipeline for function to executing whole function chain"
      ],
      "metadata": {
        "id": "Kp4LATRzVW31"
      },
      "execution_count": null,
      "outputs": []
    },
    {
      "cell_type": "code",
      "source": [
        "# 4. Train the model\n",
        "# The .fit() method trains the model on the training data.\n",
        "print(\"Training the Logistic Regression model...\")\n",
        "pipeline.fit(X_train, y_train) # Train the model with training data"
      ],
      "metadata": {
        "id": "mww37BfiVcer"
      },
      "execution_count": null,
      "outputs": []
    },
    {
      "cell_type": "code",
      "source": [
        "# 5. Make predictions on the test set\n",
        "# The .predict() method uses the trained model to make predictions on new, unseen data.\n",
        "y_pred = pipeline.predict(X_test) # Predict the data based on test data\n",
        "y_pred_proba = pipeline.predict_proba(X_test)[:, 1] # Get probabilities for the positive class"
      ],
      "metadata": {
        "id": "IZjKCjPtVfef"
      },
      "execution_count": null,
      "outputs": []
    },
    {
      "cell_type": "code",
      "source": [
        "# 6. Evaluate the model's performance\n",
        "# We use several key classification metrics to get a full picture of the model's performance.\n",
        "accuracy = accuracy_score(y_test, y_pred) # Accuracy of the model\n",
        "precision = precision_score(y_test, y_pred) # Precision of the model\n",
        "recall = recall_score(y_test, y_pred) # Recall of the model\n",
        "f1 = f1_score(y_test, y_pred) # F1 Score of the model\n",
        "conf_matrix = confusion_matrix(y_test, y_pred) # Confusion Matrix of the model\n",
        "\n",
        "print(\"\\n--- Model Evaluation ---\")\n",
        "print(f\"Accuracy: {accuracy:.4f}\")\n",
        "print(f\"Precision: {precision:.4f}\")\n",
        "print(f\"Recall: {recall:.4f}\")\n",
        "print(f\"F1-Score: {f1:.4f}\")\n",
        "print(\"\\nConfusion Matrix:\")\n",
        "print(conf_matrix)"
      ],
      "metadata": {
        "id": "0enNJWtsVlFd"
      },
      "execution_count": null,
      "outputs": []
    },
    {
      "cell_type": "code",
      "source": [
        "# 7. Visualize the Confusion Matrix\n",
        "# A confusion matrix is a great way to see where the model is making errors.\n",
        "# The rows represent the actual classes, and the columns represent the predicted classes.\n",
        "# The numbers tell you how many instances were correctly or incorrectly classified.\n",
        "# e.g., A[0,0] = True Negatives, A[1,1] = True Positives\n",
        "plt.figure(figsize=(8, 6)) # plot the confusion matrix\n",
        "sns.heatmap(conf_matrix, annot=True, fmt='d', cmap='Blues', cbar=False,\n",
        "            xticklabels=breast_cancer_data.target_names,\n",
        "            yticklabels=breast_cancer_data.target_names) # heatmap of the confustion matrix\n",
        "plt.xlabel('Predicted Label')\n",
        "plt.ylabel('True Label')\n",
        "plt.title('Confusion Matrix')\n",
        "plt.show()"
      ],
      "metadata": {
        "id": "gu4It779Vnon"
      },
      "execution_count": null,
      "outputs": []
    }
  ]
}