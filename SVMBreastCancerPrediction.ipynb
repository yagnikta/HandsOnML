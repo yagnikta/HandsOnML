{
  "nbformat": 4,
  "nbformat_minor": 0,
  "metadata": {
    "colab": {
      "provenance": [],
      "authorship_tag": "ABX9TyMhPm5DzriE9UJpnDSNDhcO",
      "include_colab_link": true
    },
    "kernelspec": {
      "name": "python3",
      "display_name": "Python 3"
    },
    "language_info": {
      "name": "python"
    }
  },
  "cells": [
    {
      "cell_type": "markdown",
      "metadata": {
        "id": "view-in-github",
        "colab_type": "text"
      },
      "source": [
        "<a href=\"https://colab.research.google.com/github/yagnikta/HandsOnML/blob/main/SVMBreastCancerPrediction.ipynb\" target=\"_parent\"><img src=\"https://colab.research.google.com/assets/colab-badge.svg\" alt=\"Open In Colab\"/></a>"
      ]
    },
    {
      "cell_type": "markdown",
      "source": [
        "## **Imports Dependencies and Data**"
      ],
      "metadata": {
        "id": "cqmlkfjdwPoK"
      }
    },
    {
      "cell_type": "code",
      "execution_count": null,
      "metadata": {
        "id": "XrzxC-amX9fm"
      },
      "outputs": [],
      "source": [
        "import numpy as np\n",
        "import pandas as pd\n",
        "from sklearn.preprocessing import StandardScaler\n",
        "from sklearn.model_selection import train_test_split\n",
        "from sklearn import svm\n",
        "from sklearn.metrics import accuracy_score"
      ]
    },
    {
      "cell_type": "code",
      "source": [
        "from sklearn.datasets import load_diabetes\n",
        "\n",
        "diabetes = load_diabetes()\n",
        "diabetes_df = pd.DataFrame(data=diabetes.data, columns=diabetes.feature_names)\n",
        "diabetes_df.head()"
      ],
      "metadata": {
        "id": "YVJ0xpKsqA3d"
      },
      "execution_count": null,
      "outputs": []
    },
    {
      "cell_type": "markdown",
      "source": [
        "## **Transform Data**"
      ],
      "metadata": {
        "id": "PuSdq6r-waq5"
      }
    },
    {
      "cell_type": "code",
      "metadata": {
        "id": "47003146"
      },
      "source": [
        "from sklearn.datasets import load_breast_cancer\n",
        "\n",
        "breast_cancer = load_breast_cancer()\n",
        "breast_cancer_df = pd.DataFrame(data=breast_cancer.data, columns=breast_cancer.feature_names)\n",
        "\n",
        "display(breast_cancer_df.head())\n",
        "\n",
        "print(\"Target names:\", breast_cancer.target_names)"
      ],
      "execution_count": null,
      "outputs": []
    },
    {
      "cell_type": "code",
      "metadata": {
        "id": "bde5ddd3"
      },
      "source": [
        "# Separate features (X) and target (y)\n",
        "X = breast_cancer_df\n",
        "y = breast_cancer.target\n",
        "\n",
        "# Split the data into training and testing sets\n",
        "X_train, X_test, y_train, y_test = train_test_split(X, y, test_size=0.2, random_state=42)"
      ],
      "execution_count": null,
      "outputs": []
    },
    {
      "cell_type": "markdown",
      "source": [
        "## **Standardizing Data**"
      ],
      "metadata": {
        "id": "eIL283MiwhJ0"
      }
    },
    {
      "cell_type": "code",
      "source": [
        "scalar = StandardScaler()\n",
        "scalar.fit_transform(X_train)\n",
        "scalar.fit_transform(X_test)"
      ],
      "metadata": {
        "id": "xQ0O06kkuyON"
      },
      "execution_count": null,
      "outputs": []
    },
    {
      "cell_type": "markdown",
      "source": [
        "##**Train the Model**"
      ],
      "metadata": {
        "id": "3ccL9Q1gwuYj"
      }
    },
    {
      "cell_type": "code",
      "source": [
        "model = svm.SVC(kernel = 'linear')"
      ],
      "metadata": {
        "id": "LWGvQBhDwy33"
      },
      "execution_count": null,
      "outputs": []
    },
    {
      "cell_type": "code",
      "source": [
        "model.fit(X_train, y_train)"
      ],
      "metadata": {
        "id": "HBBb0Znpw7ZO"
      },
      "execution_count": null,
      "outputs": []
    },
    {
      "cell_type": "markdown",
      "source": [
        "##**Model Evaluation**"
      ],
      "metadata": {
        "id": "zhJEk3PUxHeW"
      }
    },
    {
      "cell_type": "code",
      "source": [
        "X_train_prediction = model.predict(X_train)"
      ],
      "metadata": {
        "id": "wTHvu45cxfqy"
      },
      "execution_count": null,
      "outputs": []
    },
    {
      "cell_type": "code",
      "source": [
        "training_data_accuracy = accuracy_score(X_train_prediction, y_train)"
      ],
      "metadata": {
        "id": "BNgV2AMNxltA"
      },
      "execution_count": null,
      "outputs": []
    },
    {
      "cell_type": "code",
      "source": [
        "training_data_accuracy"
      ],
      "metadata": {
        "id": "dsBEOYysxujG"
      },
      "execution_count": null,
      "outputs": []
    },
    {
      "cell_type": "code",
      "source": [
        "X_test_prediction = model.predict(X_test)"
      ],
      "metadata": {
        "id": "p-tyb-NWxz8-"
      },
      "execution_count": null,
      "outputs": []
    },
    {
      "cell_type": "code",
      "source": [
        "testing_data_accuracy = accuracy_score(X_test_prediction, y_test)"
      ],
      "metadata": {
        "id": "8CfIhSWax7n8"
      },
      "execution_count": null,
      "outputs": []
    },
    {
      "cell_type": "code",
      "source": [
        "testing_data_accuracy"
      ],
      "metadata": {
        "id": "nB2kIJA6x-Ar"
      },
      "execution_count": null,
      "outputs": []
    },
    {
      "cell_type": "markdown",
      "source": [
        "##**Predictive System**"
      ],
      "metadata": {
        "id": "MwiMTsQDx_YM"
      }
    },
    {
      "cell_type": "code",
      "source": [
        "\n",
        "input_data = np.array([[13.54, 14.36, 87.46, 566.3, 0.09779, 0.08129, 0.06664, 0.04781, 0.1885, 0.05766, 0.139, 0.2477, 0.9904, 12.65, 0.005499, 0.01508, 0.02322, 0.01486, 0.01291, 0.003514, 15.11, 19.26, 99.71, 711.2, 0.144, 0.1773, 0.239, 0.1288, 0.2977, 0.07259]])\n",
        "\n",
        "input_data_reshaped = input_data.reshape(1, -1)\n",
        "\n",
        "scaled_input_data = scalar.transform(input_data_reshaped)\n",
        "\n",
        "prediction = model.predict(scaled_input_data)\n",
        "\n",
        "if (prediction[0] == 0):\n",
        "  print(\"The tumor is Malignant\")\n",
        "else:\n",
        "  print(\"The tumor is Benign\")"
      ],
      "metadata": {
        "id": "Vy2oHFVAy4-K"
      },
      "execution_count": null,
      "outputs": []
    },
    {
      "cell_type": "code",
      "source": [],
      "metadata": {
        "id": "r4Zm_5ojzQcI"
      },
      "execution_count": null,
      "outputs": []
    }
  ]
}